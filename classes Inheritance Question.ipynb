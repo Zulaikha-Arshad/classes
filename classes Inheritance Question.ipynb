{
 "cells": [
  {
   "cell_type": "code",
   "execution_count": 3,
   "id": "84069d11-eece-4243-a750-9b2e4e62be19",
   "metadata": {},
   "outputs": [],
   "source": [
    "# QUESTION 9"
   ]
  },
  {
   "cell_type": "code",
   "execution_count": null,
   "id": "d7d10a85-2051-4e9c-beb0-aaaf38a1400c",
   "metadata": {},
   "outputs": [],
   "source": [
    "# Class Shape Subclasses Circle, Rectangle, Triangle"
   ]
  },
  {
   "cell_type": "code",
   "execution_count": 1,
   "id": "e64511cf-c3f9-44c1-81a6-f00763a4d564",
   "metadata": {},
   "outputs": [
    {
     "name": "stdout",
     "output_type": "stream",
     "text": [
      "Area of Rectangle: 120\n",
      "Area of Circle: 314.0\n",
      "Area of Triangle: 20.0\n"
     ]
    }
   ],
   "source": [
    "class Shape:\n",
    "    def calculate_area(self):\n",
    "        raise NotImplementError(\"Subcclasses must implement this method\")\n",
    "        \n",
    "class Rectangle(Shape):\n",
    "    def __init__ (self, length, width):\n",
    "        self.length=length\n",
    "        self.width=width\n",
    "    def rectangle_area(self):\n",
    "        return self.length*self.width\n",
    "given_rectangle=Rectangle(10,12)\n",
    "print(f\"Area of Rectangle: {given_rectangle.rectangle_area()}\")\n",
    "\n",
    "class Circle:\n",
    "    def __init__ (self, radius):\n",
    "        self.radius=radius\n",
    "    def circle_area(self):\n",
    "        return 3.14*(self.radius**2)\n",
    "given_circle=Circle(10)\n",
    "print(f\"Area of Circle: {given_circle.circle_area()}\")\n",
    "\n",
    "class Triangle(Shape):\n",
    "    def __init__ (self, base, height):\n",
    "        self.base=base\n",
    "        self.height=height\n",
    "    def triangle_area(self):\n",
    "        return 0.5*self.base*self.height\n",
    "given_triangle=Triangle(5,8)\n",
    "print(f\"Area of Triangle: {given_triangle.triangle_area()}\")"
   ]
  },
  {
   "cell_type": "code",
   "execution_count": null,
   "id": "dd069e98-97a3-451d-9023-63483d6efc66",
   "metadata": {},
   "outputs": [],
   "source": [
    "# QUESTION 10"
   ]
  },
  {
   "cell_type": "code",
   "execution_count": null,
   "id": "2bd64033-569a-4a56-9bb4-3aedda89c65b",
   "metadata": {},
   "outputs": [],
   "source": [
    "# Class Animal Subclasses Dog, Cat, Cow"
   ]
  },
  {
   "cell_type": "code",
   "execution_count": 5,
   "id": "36945f2f-4334-403a-a4fb-5d517afdca2d",
   "metadata": {},
   "outputs": [
    {
     "name": "stdout",
     "output_type": "stream",
     "text": [
      "Max says: Woof Woof\n",
      "Maggie says: Meow Meow\n",
      "Bruno says: Moo Moo\n"
     ]
    }
   ],
   "source": [
    "class Animal:\n",
    "    def __init__(self, name):\n",
    "        self.name=name\n",
    "    def sound(self):\n",
    "        raise NotImplementError(\"Subclasses must implement this method.\")\n",
    "\n",
    "class Dog(Animal):\n",
    "    def sound(self):\n",
    "        return \"Woof Woof\"\n",
    "dog=Dog(name=\"Max\")\n",
    "print(f\"{dog.name} says: {dog.sound()}\")\n",
    "\n",
    "class Cat(Animal):\n",
    "    def sound(self):\n",
    "        return \"Meow Meow\"\n",
    "cat=Cat(name=\"Maggie\")\n",
    "print(f\"{cat.name} says: {cat.sound()}\")\n",
    "\n",
    "class Cow(Animal):\n",
    "    def sound(self):\n",
    "        return \"Moo Moo\"\n",
    "cow=Cow(name=\"Bruno\")\n",
    "print(f\"{cow.name} says: {cow.sound()}\")"
   ]
  },
  {
   "cell_type": "code",
   "execution_count": null,
   "id": "c47f71d6-384a-4070-9c34-d8c4b1665a41",
   "metadata": {},
   "outputs": [],
   "source": []
  }
 ],
 "metadata": {
  "kernelspec": {
   "display_name": "Python 3 (ipykernel)",
   "language": "python",
   "name": "python3"
  },
  "language_info": {
   "codemirror_mode": {
    "name": "ipython",
    "version": 3
   },
   "file_extension": ".py",
   "mimetype": "text/x-python",
   "name": "python",
   "nbconvert_exporter": "python",
   "pygments_lexer": "ipython3",
   "version": "3.12.4"
  }
 },
 "nbformat": 4,
 "nbformat_minor": 5
}
